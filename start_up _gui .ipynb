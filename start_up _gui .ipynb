{
 "cells": [
  {
   "cell_type": "code",
   "execution_count": 1,
   "metadata": {},
   "outputs": [],
   "source": [
    "import pandas as pd\n",
    "import numpy as np\n",
    "import matplotlib.pyplot as plt\n",
    "import warnings\n",
    "warnings.filterwarnings('ignore')"
   ]
  },
  {
   "cell_type": "code",
   "execution_count": 2,
   "metadata": {},
   "outputs": [],
   "source": [
    "model=pd.read_pickle('start_up_profit')"
   ]
  },
  {
   "cell_type": "code",
   "execution_count": 19,
   "metadata": {},
   "outputs": [],
   "source": [
    "import math\n",
    "import tkinter as tk\n",
    "app=tk.Tk()\n",
    "app.title('StartUps_profit')\n",
    "app.geometry('450x350')\n",
    "\n",
    "\n",
    "Checkbutton1=tk.IntVar()\n",
    "Checkbutton2=tk.IntVar()\n",
    "Checkbutton3=tk.IntVar()\n",
    "\n",
    "tk.Label(app,text=\"Profit Prediction\",fg=\"white\",bg=\"blue\").place(x=20,y=40)\n",
    "\n",
    "tk.Label(app,width=40,text=\"Enter  RD_Spend\").place(x=20,y=80)\n",
    "tk.Label(app,width=40,text=\"Enter Administration  \").place(x=20,y=120)\n",
    "tk.Label(app,width=40,text= \"Enter Marketing_Spend \").place(x=20,y=160)\n",
    "tk.Label(app,width=40,text=\"profit\").place(x=20,y=320)   \n",
    "tk.Label(app,width=30,text=\"State\").place(x=20,y=200)\n",
    "tk.Checkbutton(app,text=\"California\",onvalue=1,offvalue=0,width=5,height=2,variable=Checkbutton1).place(x=200,y=180)    \n",
    "tk.Checkbutton(app,text=\"Florida\",onvalue=1,offvalue=0,width=5,height=2,variable=Checkbutton2).place(x=200,y=220)   \n",
    "tk.Checkbutton(app,text=\"NEwYork \",onvalue=1,offvalue=0,width=5,height=2,variable=Checkbutton3).place(x=200,y=250)   \n",
    "        \n",
    "RD_Spend=tk.Variable(app)\n",
    "Administration=tk.Variable(app)\n",
    "Marketing_Spend=tk.Variable(app)\n",
    "predict_var=tk.Variable(app)\n",
    "tk.Label(app,textvariable=predict_var,bg=\"white\").place(x=220,y=320)\n",
    "\n",
    "tk.Entry(app,textvariable=RD_Spend,bg='#ffffff').place(x=220,y=80)\n",
    "tk.Entry(app,textvariable=Administration,bg='#ffffff').place(x=220,y=120)\n",
    "tk.Entry(app,textvariable=Marketing_Spend,bg='#ffffff').place(x=220,y=155)\n",
    "\n",
    "    \n",
    "def predict():\n",
    "    rd=RD_Spend.get()\n",
    "    administration=Administration.get()\n",
    "    marketing=Marketing_Spend.get()\n",
    "    query=pd.DataFrame({'RD Spend':[rd],\n",
    "                  'Administration':[administration],\n",
    "                   'Marketing Spend':[marketing],\n",
    "                   'California' :[Checkbutton1.get()],\n",
    "                   'Florida':[Checkbutton2.get()],\n",
    "                  'New York':[Checkbutton3.get()] \n",
    "                       })\n",
    "    \n",
    "    e=model.predict(query)[0]\n",
    "    predict_var.set(\"{0:.1f}$\".format(e))\n",
    "    RD_Spend.set('')\n",
    "    Administration.set('')\n",
    "    Marketing_Spend.set('')\n",
    "    \n",
    "tk.Button(app,text=\"Predict\",fg=\"white\",bg=\"green\",command=predict).place(x=290,y=290)    \n",
    "    \n",
    "app.mainloop() "
   ]
  },
  {
   "cell_type": "code",
   "execution_count": null,
   "metadata": {},
   "outputs": [],
   "source": []
  },
  {
   "cell_type": "code",
   "execution_count": null,
   "metadata": {},
   "outputs": [],
   "source": []
  }
 ],
 "metadata": {
  "kernelspec": {
   "display_name": "Python 3",
   "language": "python",
   "name": "python3"
  },
  "language_info": {
   "codemirror_mode": {
    "name": "ipython",
    "version": 3
   },
   "file_extension": ".py",
   "mimetype": "text/x-python",
   "name": "python",
   "nbconvert_exporter": "python",
   "pygments_lexer": "ipython3",
   "version": "3.8.3"
  }
 },
 "nbformat": 4,
 "nbformat_minor": 4
}
