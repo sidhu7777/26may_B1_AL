{
 "cells": [
  {
   "cell_type": "code",
   "execution_count": 147,
   "metadata": {},
   "outputs": [],
   "source": [
    "import numpy as np\n",
    "import pandas as pd\n",
    "import tkinter as tk\n",
    "\n",
    "import warnings \n",
    "warnings.filterwarnings('ignore')\n"
   ]
  },
  {
   "cell_type": "code",
   "execution_count": null,
   "metadata": {},
   "outputs": [
    {
     "name": "stdout",
     "output_type": "stream",
     "text": [
      "Paper, The (1994)\n"
     ]
    }
   ],
   "source": [
    "movies=pd.read_csv('movies.csv')\n",
    "ratings=pd.read_csv('ratings.csv')\n",
    "data=pd.merge(ratings,movies,on='movieId')\n",
    "rating1=pd.DataFrame(data.groupby('title')['rating'].mean())\n",
    "rating1['count']=data['title'].value_counts()\n",
    "pivot_df=data. pivot_table(index='userId',columns='title',values='rating')\n",
    "\n",
    "\n",
    "app=tk.Tk()\n",
    "app.title('Movie recommandation system')\n",
    "app.geometry('500x300')\n",
    "\n",
    "tk.Label(app, text='movie:').place(x=30,y=25)\n",
    "tk.Label(app, text='recommanded:').place(x=30,y=125)\n",
    "tk.Label(app, text='try:').place(x=30,y=150)\n",
    "\n",
    "\n",
    "movie_var =tk.Variable(app)\n",
    "tk.Entry(app, textvariable=movie_var, width=30).place(x=100,y=25) \n",
    "\n",
    "recommanded_var =tk.Variable(app)\n",
    "recommanded_var.set('type movie name ..')\n",
    "tk.Label(app, textvariable=recommanded_var, width=30).place(x=100,y=125)\n",
    "\n",
    "try_var =tk.Variable(app)\n",
    "try_var.set('type movie name..')\n",
    "tk.Label(app, textvariable=try_var, width=30).place(x=100,y=150)\n",
    "\n",
    "def find_recommandation():\n",
    "        movie=v=movie_var.get().lower().strip()\n",
    "        try: \n",
    "            movie=movies['title'][movies['title'].apply(lambda x: movie in x.lower())].values[0]\n",
    "            print(movie)\n",
    "            movie_var.set(movie)\n",
    "        except IndexError:\n",
    "            recommanded_var.set('movie not found')\n",
    "            try_var.set('movie not found')\n",
    "\n",
    "        else:\n",
    "            \n",
    "            corr_df=pd.DataFrame( pivot_df.corrwith(pivot_df[movie]),columns= ['correlation'])\n",
    "            corr_df.dropna(inplace=True)\n",
    "            corr_df= corr_df.join(rating1['count'])\n",
    "            corr_df[corr_df['count']>150].sort_values(by='correlation',ascending=False)\n",
    "            recommanded_var .set(corr_df[(corr_df['count']>150)&(corr_df['correlation']>0.45)].sort_values(by='correlation',ascending=False).index[1])\n",
    "            try_var .set(corr_df[corr_df['correlation']>0.45].sort_values(by='correlation',ascending=False).index[0])\n",
    "            \n",
    "            \n",
    "\n",
    "                        \n",
    "\n",
    "            \n",
    "            \n",
    "        \n",
    "        \n",
    "\n",
    "tk.Button(app,text='suggest',command=find_recommandation,bg='#ffffff',fg='blue').place(x=90,y=75)\n",
    "    \n",
    "app.mainloop()    \n"
   ]
  },
  {
   "cell_type": "code",
   "execution_count": null,
   "metadata": {},
   "outputs": [],
   "source": []
  },
  {
   "cell_type": "code",
   "execution_count": 142,
   "metadata": {},
   "outputs": [],
   "source": [
    "##### Find  the index of title###"
   ]
  },
  {
   "cell_type": "code",
   "execution_count": 54,
   "metadata": {},
   "outputs": [
    {
     "data": {
      "text/html": [
       "<div>\n",
       "<style scoped>\n",
       "    .dataframe tbody tr th:only-of-type {\n",
       "        vertical-align: middle;\n",
       "    }\n",
       "\n",
       "    .dataframe tbody tr th {\n",
       "        vertical-align: top;\n",
       "    }\n",
       "\n",
       "    .dataframe thead th {\n",
       "        text-align: right;\n",
       "    }\n",
       "</style>\n",
       "<table border=\"1\" class=\"dataframe\">\n",
       "  <thead>\n",
       "    <tr style=\"text-align: right;\">\n",
       "      <th></th>\n",
       "      <th>movieId</th>\n",
       "      <th>title</th>\n",
       "      <th>genres</th>\n",
       "    </tr>\n",
       "  </thead>\n",
       "  <tbody>\n",
       "    <tr>\n",
       "      <th>506</th>\n",
       "      <td>588</td>\n",
       "      <td>Aladdin (1992)</td>\n",
       "      <td>Adventure|Animation|Children|Comedy|Musical</td>\n",
       "    </tr>\n",
       "    <tr>\n",
       "      <th>812</th>\n",
       "      <td>1064</td>\n",
       "      <td>Aladdin and the King of Thieves (1996)</td>\n",
       "      <td>Animation|Children|Comedy|Fantasy|Musical|Romance</td>\n",
       "    </tr>\n",
       "  </tbody>\n",
       "</table>\n",
       "</div>"
      ],
      "text/plain": [
       "     movieId                                   title  \\\n",
       "506      588                          Aladdin (1992)   \n",
       "812     1064  Aladdin and the King of Thieves (1996)   \n",
       "\n",
       "                                                genres  \n",
       "506        Adventure|Animation|Children|Comedy|Musical  \n",
       "812  Animation|Children|Comedy|Fantasy|Musical|Romance  "
      ]
     },
     "execution_count": 54,
     "metadata": {},
     "output_type": "execute_result"
    }
   ],
   "source": [
    "movie='aladdin'\n",
    "movies[movies['title'].apply(lambda x:movie in x.lower())]"
   ]
  },
  {
   "cell_type": "code",
   "execution_count": 55,
   "metadata": {},
   "outputs": [
    {
     "data": {
      "text/plain": [
       "array([588, 'Aladdin (1992)',\n",
       "       'Adventure|Animation|Children|Comedy|Musical'], dtype=object)"
      ]
     },
     "execution_count": 55,
     "metadata": {},
     "output_type": "execute_result"
    }
   ],
   "source": [
    "movies[movies['title'].apply(lambda x:movie in x.lower())].values[0]"
   ]
  },
  {
   "cell_type": "code",
   "execution_count": null,
   "metadata": {},
   "outputs": [],
   "source": []
  }
 ],
 "metadata": {
  "kernelspec": {
   "display_name": "Python 3",
   "language": "python",
   "name": "python3"
  },
  "language_info": {
   "codemirror_mode": {
    "name": "ipython",
    "version": 3
   },
   "file_extension": ".py",
   "mimetype": "text/x-python",
   "name": "python",
   "nbconvert_exporter": "python",
   "pygments_lexer": "ipython3",
   "version": "3.8.3"
  }
 },
 "nbformat": 4,
 "nbformat_minor": 4
}
